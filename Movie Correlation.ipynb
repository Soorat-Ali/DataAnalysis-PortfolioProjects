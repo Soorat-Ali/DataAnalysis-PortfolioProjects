{
 "cells": [
  {
   "cell_type": "code",
   "execution_count": null,
   "id": "031afaf2-2f36-4811-b777-bd86840f31a1",
   "metadata": {},
   "outputs": [],
   "source": [
    "# import libraries\n",
    "import pandas as pd\n",
    "import numpy as np\n",
    "import seaborn as sns\n",
    "\n",
    "import matplotlib.pyplot as plt\n",
    "import matplotlib.mlab as mlab\n",
    "import matplotlib\n",
    "plt.style.use('ggplot')\n",
    "from matplotlib.pyplot import figure\n",
    "\n",
    "%matplotlib inline\n",
    "matplotlib.rcParams['figure.figsize'] = (12,8)\n",
    "\n",
    "#Read in the data\n",
    "df=pd.read_csv(r'E:\\Data Analytics Project\\Project 3\\movies.csv')"
   ]
  },
  {
   "cell_type": "code",
   "execution_count": null,
   "id": "6609fdbc-de4c-4f46-99f7-d567236253a1",
   "metadata": {},
   "outputs": [],
   "source": [
    "# Look into data\n",
    "df.head()"
   ]
  },
  {
   "cell_type": "code",
   "execution_count": null,
   "id": "dc647ddb-8509-4451-9245-aafa3246ebc1",
   "metadata": {},
   "outputs": [],
   "source": [
    "# Lets see if there is any missing data\n",
    "for col in df.columns:\n",
    "    pct_missing=np.mean(df[col].isnull())\n",
    "    print('{} - {}%'.format(col,pct_missing))"
   ]
  },
  {
   "cell_type": "code",
   "execution_count": null,
   "id": "9d2a8eac-7841-4380-9084-4ce304c1b917",
   "metadata": {},
   "outputs": [],
   "source": [
    "# Data Types of our coloumns\n",
    "df.dtypes"
   ]
  },
  {
   "cell_type": "code",
   "execution_count": null,
   "id": "9092b772-bbee-49c9-822d-8bb408463a64",
   "metadata": {},
   "outputs": [],
   "source": [
    "# Change data types of coloumns\n",
    "df['budget'] = pd.to_numeric(df['budget'], errors='coerce').astype('Int64')\n",
    "df['gross'] = pd.to_numeric(df['gross'], errors='coerce').astype('Int64')"
   ]
  },
  {
   "cell_type": "code",
   "execution_count": null,
   "id": "0aa1ebc9-ca4b-42f2-af5a-c1342d27e11f",
   "metadata": {},
   "outputs": [],
   "source": [
    "df"
   ]
  },
  {
   "cell_type": "code",
   "execution_count": null,
   "id": "1255f1a2-cbea-4c32-add7-326864975d42",
   "metadata": {},
   "outputs": [],
   "source": [
    "# Create Correct year Coloumn\n",
    "df['YearCorrect'] = df['released'].str.extract(r'(\\d{4})')\n",
    "df"
   ]
  },
  {
   "cell_type": "code",
   "execution_count": null,
   "id": "6dcdbe58-e330-4766-81a2-dc73b3aae3f7",
   "metadata": {},
   "outputs": [],
   "source": [
    "df.sort_values(by=['gross'], inplace=False, ascending=False)"
   ]
  },
  {
   "cell_type": "code",
   "execution_count": null,
   "id": "a9f6db5f-b097-46bb-996f-0512e5a7026e",
   "metadata": {},
   "outputs": [],
   "source": [
    "pd.set_option('display.max_rows', None)"
   ]
  },
  {
   "cell_type": "code",
   "execution_count": null,
   "id": "bdaa77db-a942-4d17-8e3d-bce24e0c0edc",
   "metadata": {},
   "outputs": [],
   "source": [
    "# Drop any Duplicates\n",
    "df.drop_duplicates()"
   ]
  },
  {
   "cell_type": "code",
   "execution_count": null,
   "id": "7f182730-6feb-4cd2-93ca-d3437c5a9841",
   "metadata": {},
   "outputs": [],
   "source": [
    " df"
   ]
  },
  {
   "cell_type": "code",
   "execution_count": null,
   "id": "e03cc1d8-856d-41ab-a8e1-90e98cace537",
   "metadata": {},
   "outputs": [],
   "source": [
    "# Budget high correlation \n",
    "# Company high correlation\n"
   ]
  },
  {
   "cell_type": "code",
   "execution_count": null,
   "id": "22962359-a73b-4056-8bd0-9c982a47f1f7",
   "metadata": {
    "scrolled": true
   },
   "outputs": [],
   "source": [
    "# Scatter plot with budget vs gross\n",
    "\n",
    "# Remove Rows with missing values\n",
    "df_cleaned = df.dropna(subset=['budget', 'gross'])\n",
    "\n",
    "# Scatter plot with cleaned data\n",
    "plt.scatter(x=df_cleaned['budget'], y=df_cleaned['gross'])\n",
    "plt.xlabel('Budget Earnings')\n",
    "plt.ylabel('Gross Earnings')\n",
    "plt.title('Budget vs Gross Earnings')\n",
    "plt.show()"
   ]
  },
  {
   "cell_type": "code",
   "execution_count": null,
   "id": "e50a1c7d-0ad6-430d-b791-ddac2b68daf7",
   "metadata": {},
   "outputs": [],
   "source": [
    "df.head()"
   ]
  },
  {
   "cell_type": "code",
   "execution_count": null,
   "id": "2120b10d-f123-43da-9b16-3469d86d9bdf",
   "metadata": {},
   "outputs": [],
   "source": [
    "# Plot Budget vs Gross using Seaborn\n",
    "sns.regplot(x='budget' , y='gross' , data=df, scatter_kws={'color':\"red\"},line_kws={'color':\"blue\"})"
   ]
  },
  {
   "cell_type": "code",
   "execution_count": null,
   "id": "1ceeeee0-cc18-408c-9cf7-bb00824a94f2",
   "metadata": {},
   "outputs": [],
   "source": [
    "# Lets Start lookin at correlations\n"
   ]
  },
  {
   "cell_type": "code",
   "execution_count": null,
   "id": "16a330e2-4d4d-4c80-b304-df062e6fee58",
   "metadata": {},
   "outputs": [],
   "source": [
    "# Select only numeric columns for correlation calculation\n",
    "numeric_df = df.select_dtypes(include=[np.number])\n",
    "\n",
    "numeric_df.corr(method='pearson')\n",
    "\n",
    "\n"
   ]
  },
  {
   "cell_type": "code",
   "execution_count": null,
   "id": "e61c55c6-bca4-4399-87b2-9b254e105633",
   "metadata": {},
   "outputs": [],
   "source": [
    "# High Correlation between budget and gross"
   ]
  },
  {
   "cell_type": "code",
   "execution_count": null,
   "id": "424fb448-0cb5-4a7f-8955-f2a205048855",
   "metadata": {},
   "outputs": [],
   "source": [
    "corrrlation_matrix = numeric_df.corr(method='pearson')\n",
    "sns.heatmap(correlation_matrix, annot=True)\n",
    "plt.xlabel('Correlation Matrix for numeric features')\n",
    "plt.ylabel('Movie Features')\n",
    "plt.title('Movie Features')\n",
    "plt.show()\n"
   ]
  },
  {
   "cell_type": "code",
   "execution_count": null,
   "id": "64a7bcdf-795a-4b2e-9295-35b04b7e5d68",
   "metadata": {},
   "outputs": [],
   "source": [
    "# Looks at Company\n",
    "df.head()"
   ]
  },
  {
   "cell_type": "code",
   "execution_count": null,
   "id": "0abc462c-c940-4103-8fb9-436aaa16cbb8",
   "metadata": {},
   "outputs": [],
   "source": [
    "df_numerized=df\n",
    "for col_name in df_numerized.columns:\n",
    "    if(df_numerized[col_name].dtype == 'object'):\n",
    "        df_numerized[col_name] = df_numerized[col_name].astype('category')\n",
    "        df_numerized[col_name] = df_numerized[col_name].cat.codes\n",
    "\n",
    "\n",
    "df_numerized"
   ]
  },
  {
   "cell_type": "code",
   "execution_count": null,
   "id": "e7addb27-eb0a-4295-aadb-455fc6a8c0de",
   "metadata": {},
   "outputs": [],
   "source": [
    "df"
   ]
  },
  {
   "cell_type": "code",
   "execution_count": null,
   "id": "d354fb19-9fb3-4b74-adeb-203eba06ce36",
   "metadata": {},
   "outputs": [],
   "source": [
    "corrrlation_matrix = df_numerized.corr(method='pearson')\n",
    "sns.heatmap(correlation_matrix, annot=True)\n",
    "plt.xlabel('Correlation Matrix for numeric features')\n",
    "plt.ylabel('Movie Features')\n",
    "plt.title('Movie Features')\n",
    "plt.show()\n"
   ]
  },
  {
   "cell_type": "code",
   "execution_count": null,
   "id": "bf158413-41e0-4759-8fa2-c6fbafb69dd3",
   "metadata": {},
   "outputs": [],
   "source": [
    "df_numerized.corr()"
   ]
  },
  {
   "cell_type": "code",
   "execution_count": null,
   "id": "6240ce5b-8c2e-47af-98db-9ba902a8014e",
   "metadata": {},
   "outputs": [],
   "source": [
    "correlation_mat = df_numerized.corr()\n",
    "corr_pairs = correlation_mat.unstack()\n",
    "corr_pairs"
   ]
  },
  {
   "cell_type": "code",
   "execution_count": null,
   "id": "f0296d8f-6f9e-48a9-a4fc-7244a99d601c",
   "metadata": {},
   "outputs": [],
   "source": [
    "sorted_pairs = corr_pairs.sort_values()\n",
    "sorted_pairs"
   ]
  },
  {
   "cell_type": "code",
   "execution_count": null,
   "id": "1e0f4b52-0583-4f6d-bb56-404fb0eb7e6e",
   "metadata": {},
   "outputs": [],
   "source": [
    "high_corr = sorted_pairs[(sorted_pairs) > 0.5]\n",
    "high_corr"
   ]
  },
  {
   "cell_type": "code",
   "execution_count": null,
   "id": "acd44773-be42-4777-973e-5914f997d44d",
   "metadata": {},
   "outputs": [],
   "source": []
  }
 ],
 "metadata": {
  "kernelspec": {
   "display_name": "Python 3 (ipykernel)",
   "language": "python",
   "name": "python3"
  },
  "language_info": {
   "codemirror_mode": {
    "name": "ipython",
    "version": 3
   },
   "file_extension": ".py",
   "mimetype": "text/x-python",
   "name": "python",
   "nbconvert_exporter": "python",
   "pygments_lexer": "ipython3",
   "version": "3.11.7"
  }
 },
 "nbformat": 4,
 "nbformat_minor": 5
}
